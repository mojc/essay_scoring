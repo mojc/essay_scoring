{
 "cells": [
  {
   "cell_type": "code",
   "execution_count": 1,
   "id": "125488ab-f5e5-48cc-9c29-229e19925d58",
   "metadata": {},
   "outputs": [
    {
     "name": "stderr",
     "output_type": "stream",
     "text": [
      "/Users/mojc/code/essay_scoring/venv/lib/python3.9/site-packages/urllib3/__init__.py:35: NotOpenSSLWarning: urllib3 v2 only supports OpenSSL 1.1.1+, currently the 'ssl' module is compiled with 'LibreSSL 2.8.3'. See: https://github.com/urllib3/urllib3/issues/3020\n",
      "  warnings.warn(\n"
     ]
    }
   ],
   "source": [
    "#import keras_nlp\n",
    "from tensorflow.keras.preprocessing.text import Tokenizer\n",
    "from tensorflow.keras.preprocessing.sequence import pad_sequences\n",
    "from tensorflow.keras import layers\n",
    "\n",
    "import keras\n",
    "import tensorflow as tf\n",
    "import numpy as np\n",
    "import pandas as pd\n",
    "import nltk"
   ]
  },
  {
   "cell_type": "code",
   "execution_count": 2,
   "id": "8c7f877a-6d97-4319-9658-84a28da381f8",
   "metadata": {},
   "outputs": [
    {
     "name": "stdout",
     "output_type": "stream",
     "text": [
      "[PhysicalDevice(name='/physical_device:CPU:0', device_type='CPU'), PhysicalDevice(name='/physical_device:GPU:0', device_type='GPU')]\n"
     ]
    }
   ],
   "source": [
    "print(tf.config.list_physical_devices())\n",
    "# tf.config.set_visible_devices([tf.config.list_physical_devices('GPU')[0]])\n",
    "# tf.debugging.set_log_device_placement(True)"
   ]
  },
  {
   "cell_type": "code",
   "execution_count": 3,
   "id": "5ef884de-1a9a-4160-93b3-b67582484355",
   "metadata": {},
   "outputs": [],
   "source": [
    "# data = keras.utils.text_dataset_from_directory('learning-agency-lab-automated-essay-scoring-2/')\n",
    "data = pd.read_csv(\"learning-agency-lab-automated-essay-scoring-2/train.csv\")\n",
    "essays = data.full_text.to_list()\n",
    "labels = data.score.to_list() # maybe one hot and cross entropy"
   ]
  },
  {
   "cell_type": "code",
   "execution_count": 4,
   "id": "6e747ba1-8c6a-4918-8285-16c48b853587",
   "metadata": {},
   "outputs": [],
   "source": [
    "num_words=10000 # words that occur at least twice\n",
    "training_size = 14000 # 80% of essays\n",
    "padding_type='post'\n",
    "trunc_type='post'"
   ]
  },
  {
   "cell_type": "code",
   "execution_count": 5,
   "id": "ca3c41c5-d50a-42a3-9ebc-66f171da282f",
   "metadata": {},
   "outputs": [],
   "source": [
    "essays = [es[:2500] for es in essays] # cut the long essays"
   ]
  },
  {
   "cell_type": "code",
   "execution_count": 6,
   "id": "28809df6-e6af-4649-88b6-87a656598cb0",
   "metadata": {},
   "outputs": [],
   "source": [
    "training_sentences = essays[0:training_size]\n",
    "testing_sentences = essays[training_size:]\n",
    "training_labels = labels[0:training_size]\n",
    "testing_labels = labels[training_size:]"
   ]
  },
  {
   "cell_type": "code",
   "execution_count": 7,
   "id": "f4f8bed3-accd-4c78-b72a-576edc03bcae",
   "metadata": {},
   "outputs": [],
   "source": [
    "tokenizer = Tokenizer(num_words=num_words, oov_token='<oov>')"
   ]
  },
  {
   "cell_type": "code",
   "execution_count": 8,
   "id": "cab09c6b-d43b-4467-a76f-217a4e1498b0",
   "metadata": {},
   "outputs": [
    {
     "name": "stdout",
     "output_type": "stream",
     "text": [
      "tokenizer.word_index 57848\n",
      "tokenizer.word_index 57676\n"
     ]
    },
    {
     "name": "stderr",
     "output_type": "stream",
     "text": [
      "[nltk_data] Downloading package stopwords to /Users/mojc/nltk_data...\n",
      "[nltk_data]   Package stopwords is already up-to-date!\n"
     ]
    }
   ],
   "source": [
    "tokenizer.fit_on_texts(training_sentences)\n",
    "print('tokenizer.word_index', len(tokenizer.word_index))\n",
    "nltk.download('stopwords')\n",
    "stop_words = set(nltk.corpus.stopwords.words('english'))\n",
    "tokenizer.word_index = {word: cnt for word, cnt in tokenizer.word_index.items() if word not in stop_words}\n",
    "print('tokenizer.word_index', len(tokenizer.word_index))"
   ]
  },
  {
   "cell_type": "code",
   "execution_count": 9,
   "id": "1abddf3c-554c-4964-b1d3-da26b5fb6d0e",
   "metadata": {},
   "outputs": [],
   "source": [
    "# sequences = tokenizer.texts_to_sequences(essays)\n",
    "max_length = max([len(es) for es in essays])"
   ]
  },
  {
   "cell_type": "code",
   "execution_count": 10,
   "id": "39a302ca-92ce-4cd7-9012-7e6077890891",
   "metadata": {},
   "outputs": [],
   "source": [
    "training_sequences = tokenizer.texts_to_sequences(training_sentences)\n",
    "training_padded = pad_sequences(training_sequences, maxlen=max_length, padding=padding_type, truncating=trunc_type)\n",
    "testing_sequences = tokenizer.texts_to_sequences(testing_sentences)\n",
    "testing_padded = pad_sequences(testing_sequences, maxlen=max_length, padding=padding_type, truncating=trunc_type)\n",
    "training_padded = np.array(training_padded)\n",
    "training_labels = np.array(training_labels) - 1\n",
    "testing_padded = np.array(testing_padded)\n",
    "testing_labels = np.array(testing_labels) - 1"
   ]
  },
  {
   "cell_type": "code",
   "execution_count": 11,
   "id": "531c6a54-e826-4003-8e4f-6a4030bbc06d",
   "metadata": {},
   "outputs": [
    {
     "name": "stderr",
     "output_type": "stream",
     "text": [
      "2024-09-23 21:44:29.633656: I metal_plugin/src/device/metal_device.cc:1154] Metal device set to: Apple M3 Pro\n",
      "2024-09-23 21:44:29.633673: I metal_plugin/src/device/metal_device.cc:296] systemMemory: 36.00 GB\n",
      "2024-09-23 21:44:29.633676: I metal_plugin/src/device/metal_device.cc:313] maxCacheSize: 13.50 GB\n",
      "2024-09-23 21:44:29.633691: I tensorflow/core/common_runtime/pluggable_device/pluggable_device_factory.cc:305] Could not identify NUMA node of platform GPU ID 0, defaulting to 0. Your kernel may not have been built with NUMA support.\n",
      "2024-09-23 21:44:29.633701: I tensorflow/core/common_runtime/pluggable_device/pluggable_device_factory.cc:271] Created TensorFlow device (/job:localhost/replica:0/task:0/device:GPU:0 with 0 MB memory) -> physical PluggableDevice (device: 0, name: METAL, pci bus id: <undefined>)\n"
     ]
    },
    {
     "data": {
      "text/html": [
       "<pre style=\"white-space:pre;overflow-x:auto;line-height:normal;font-family:Menlo,'DejaVu Sans Mono',consolas,'Courier New',monospace\"><span style=\"font-weight: bold\">Model: \"sequential\"</span>\n",
       "</pre>\n"
      ],
      "text/plain": [
       "\u001b[1mModel: \"sequential\"\u001b[0m\n"
      ]
     },
     "metadata": {},
     "output_type": "display_data"
    },
    {
     "data": {
      "text/html": [
       "<pre style=\"white-space:pre;overflow-x:auto;line-height:normal;font-family:Menlo,'DejaVu Sans Mono',consolas,'Courier New',monospace\">┏━━━━━━━━━━━━━━━━━━━━━━━━━━━━━━━━━┳━━━━━━━━━━━━━━━━━━━━━━━━┳━━━━━━━━━━━━━━━┓\n",
       "┃<span style=\"font-weight: bold\"> Layer (type)                    </span>┃<span style=\"font-weight: bold\"> Output Shape           </span>┃<span style=\"font-weight: bold\">       Param # </span>┃\n",
       "┡━━━━━━━━━━━━━━━━━━━━━━━━━━━━━━━━━╇━━━━━━━━━━━━━━━━━━━━━━━━╇━━━━━━━━━━━━━━━┩\n",
       "│ embedding (<span style=\"color: #0087ff; text-decoration-color: #0087ff\">Embedding</span>)           │ ?                      │   <span style=\"color: #00af00; text-decoration-color: #00af00\">0</span> (unbuilt) │\n",
       "├─────────────────────────────────┼────────────────────────┼───────────────┤\n",
       "│ bidirectional (<span style=\"color: #0087ff; text-decoration-color: #0087ff\">Bidirectional</span>)   │ ?                      │   <span style=\"color: #00af00; text-decoration-color: #00af00\">0</span> (unbuilt) │\n",
       "├─────────────────────────────────┼────────────────────────┼───────────────┤\n",
       "│ dense (<span style=\"color: #0087ff; text-decoration-color: #0087ff\">Dense</span>)                   │ ?                      │   <span style=\"color: #00af00; text-decoration-color: #00af00\">0</span> (unbuilt) │\n",
       "└─────────────────────────────────┴────────────────────────┴───────────────┘\n",
       "</pre>\n"
      ],
      "text/plain": [
       "┏━━━━━━━━━━━━━━━━━━━━━━━━━━━━━━━━━┳━━━━━━━━━━━━━━━━━━━━━━━━┳━━━━━━━━━━━━━━━┓\n",
       "┃\u001b[1m \u001b[0m\u001b[1mLayer (type)                   \u001b[0m\u001b[1m \u001b[0m┃\u001b[1m \u001b[0m\u001b[1mOutput Shape          \u001b[0m\u001b[1m \u001b[0m┃\u001b[1m \u001b[0m\u001b[1m      Param #\u001b[0m\u001b[1m \u001b[0m┃\n",
       "┡━━━━━━━━━━━━━━━━━━━━━━━━━━━━━━━━━╇━━━━━━━━━━━━━━━━━━━━━━━━╇━━━━━━━━━━━━━━━┩\n",
       "│ embedding (\u001b[38;5;33mEmbedding\u001b[0m)           │ ?                      │   \u001b[38;5;34m0\u001b[0m (unbuilt) │\n",
       "├─────────────────────────────────┼────────────────────────┼───────────────┤\n",
       "│ bidirectional (\u001b[38;5;33mBidirectional\u001b[0m)   │ ?                      │   \u001b[38;5;34m0\u001b[0m (unbuilt) │\n",
       "├─────────────────────────────────┼────────────────────────┼───────────────┤\n",
       "│ dense (\u001b[38;5;33mDense\u001b[0m)                   │ ?                      │   \u001b[38;5;34m0\u001b[0m (unbuilt) │\n",
       "└─────────────────────────────────┴────────────────────────┴───────────────┘\n"
      ]
     },
     "metadata": {},
     "output_type": "display_data"
    },
    {
     "data": {
      "text/html": [
       "<pre style=\"white-space:pre;overflow-x:auto;line-height:normal;font-family:Menlo,'DejaVu Sans Mono',consolas,'Courier New',monospace\"><span style=\"font-weight: bold\"> Total params: </span><span style=\"color: #00af00; text-decoration-color: #00af00\">0</span> (0.00 B)\n",
       "</pre>\n"
      ],
      "text/plain": [
       "\u001b[1m Total params: \u001b[0m\u001b[38;5;34m0\u001b[0m (0.00 B)\n"
      ]
     },
     "metadata": {},
     "output_type": "display_data"
    },
    {
     "data": {
      "text/html": [
       "<pre style=\"white-space:pre;overflow-x:auto;line-height:normal;font-family:Menlo,'DejaVu Sans Mono',consolas,'Courier New',monospace\"><span style=\"font-weight: bold\"> Trainable params: </span><span style=\"color: #00af00; text-decoration-color: #00af00\">0</span> (0.00 B)\n",
       "</pre>\n"
      ],
      "text/plain": [
       "\u001b[1m Trainable params: \u001b[0m\u001b[38;5;34m0\u001b[0m (0.00 B)\n"
      ]
     },
     "metadata": {},
     "output_type": "display_data"
    },
    {
     "data": {
      "text/html": [
       "<pre style=\"white-space:pre;overflow-x:auto;line-height:normal;font-family:Menlo,'DejaVu Sans Mono',consolas,'Courier New',monospace\"><span style=\"font-weight: bold\"> Non-trainable params: </span><span style=\"color: #00af00; text-decoration-color: #00af00\">0</span> (0.00 B)\n",
       "</pre>\n"
      ],
      "text/plain": [
       "\u001b[1m Non-trainable params: \u001b[0m\u001b[38;5;34m0\u001b[0m (0.00 B)\n"
      ]
     },
     "metadata": {},
     "output_type": "display_data"
    }
   ],
   "source": [
    "model = tf.keras.Sequential([\n",
    "    tf.keras.layers.Embedding(num_words, 6),\n",
    "    # layers.GlobalAveragePooling1D(),\n",
    "    tf.keras.layers.Bidirectional(tf.keras.layers.LSTM(16)),\n",
    "    layers.Dense(6, activation='softmax')]\n",
    ")\n",
    "model.compile(loss='sparse_categorical_crossentropy', optimizer='adam', metrics=['accuracy'])\n",
    "model.summary()\n",
    "callback = keras.callbacks.EarlyStopping(monitor='val_loss', patience=5, restore_best_weights=True)"
   ]
  },
  {
   "cell_type": "code",
   "execution_count": 12,
   "id": "444824d6-25fb-4e6a-9e6f-723423b19500",
   "metadata": {},
   "outputs": [
    {
     "name": "stdout",
     "output_type": "stream",
     "text": [
      "Epoch 1/50\n"
     ]
    },
    {
     "name": "stderr",
     "output_type": "stream",
     "text": [
      "2024-09-23 21:44:30.365049: I tensorflow/core/grappler/optimizers/custom_graph_optimizer_registry.cc:117] Plugin optimizer for device_type GPU is enabled.\n"
     ]
    },
    {
     "name": "stdout",
     "output_type": "stream",
     "text": [
      "438/438 - 78s - 177ms/step - accuracy: 0.3592 - loss: 1.4667 - val_accuracy: 0.3719 - val_loss: 1.4345\n",
      "Epoch 2/50\n",
      "438/438 - 76s - 173ms/step - accuracy: 0.3788 - loss: 1.3890 - val_accuracy: 0.4016 - val_loss: 1.3481\n",
      "Epoch 3/50\n",
      "438/438 - 75s - 171ms/step - accuracy: 0.4051 - loss: 1.3212 - val_accuracy: 0.3922 - val_loss: 1.3361\n",
      "Epoch 4/50\n",
      "438/438 - 75s - 172ms/step - accuracy: 0.4339 - loss: 1.2552 - val_accuracy: 0.4233 - val_loss: 1.2769\n",
      "Epoch 5/50\n",
      "438/438 - 75s - 172ms/step - accuracy: 0.4510 - loss: 1.2124 - val_accuracy: 0.4082 - val_loss: 1.3036\n",
      "Epoch 6/50\n",
      "438/438 - 76s - 173ms/step - accuracy: 0.4721 - loss: 1.1746 - val_accuracy: 0.4264 - val_loss: 1.2833\n",
      "Epoch 7/50\n",
      "438/438 - 75s - 171ms/step - accuracy: 0.4854 - loss: 1.1530 - val_accuracy: 0.4348 - val_loss: 1.2583\n",
      "Epoch 8/50\n",
      "438/438 - 76s - 172ms/step - accuracy: 0.4935 - loss: 1.1367 - val_accuracy: 0.4382 - val_loss: 1.2487\n",
      "Epoch 9/50\n",
      "438/438 - 75s - 172ms/step - accuracy: 0.5066 - loss: 1.1066 - val_accuracy: 0.4097 - val_loss: 1.3114\n",
      "Epoch 10/50\n",
      "438/438 - 75s - 172ms/step - accuracy: 0.5556 - loss: 1.0140 - val_accuracy: 0.5135 - val_loss: 1.0725\n",
      "Epoch 11/50\n",
      "438/438 - 75s - 172ms/step - accuracy: 0.6105 - loss: 0.9031 - val_accuracy: 0.5482 - val_loss: 1.0297\n",
      "Epoch 12/50\n",
      "438/438 - 75s - 172ms/step - accuracy: 0.6378 - loss: 0.8523 - val_accuracy: 0.5606 - val_loss: 1.0357\n",
      "Epoch 13/50\n",
      "438/438 - 75s - 171ms/step - accuracy: 0.6605 - loss: 0.8188 - val_accuracy: 0.5558 - val_loss: 1.0509\n",
      "Epoch 14/50\n",
      "438/438 - 76s - 174ms/step - accuracy: 0.6759 - loss: 0.7887 - val_accuracy: 0.5437 - val_loss: 1.0948\n",
      "Epoch 15/50\n",
      "438/438 - 76s - 173ms/step - accuracy: 0.6874 - loss: 0.7602 - val_accuracy: 0.5443 - val_loss: 1.1178\n",
      "Epoch 16/50\n",
      "438/438 - 75s - 171ms/step - accuracy: 0.7155 - loss: 0.7097 - val_accuracy: 0.5609 - val_loss: 1.0833\n",
      "\u001b[1m104/104\u001b[0m \u001b[32m━━━━━━━━━━━━━━━━━━━━\u001b[0m\u001b[37m\u001b[0m \u001b[1m6s\u001b[0m 56ms/step - accuracy: 0.5471 - loss: 1.0204\n"
     ]
    },
    {
     "data": {
      "text/plain": [
       "[1.029724359512329, 0.5482310056686401]"
      ]
     },
     "execution_count": 12,
     "metadata": {},
     "output_type": "execute_result"
    }
   ],
   "source": [
    "# with tf.device('/device:GPU:0'): # looking at the activity monitor it does not seem to make a difference\n",
    "history = model.fit(training_padded, training_labels, epochs=50, validation_data=(testing_padded, testing_labels), verbose=2, callbacks=callback)\n",
    "model.evaluate(testing_padded, testing_labels)\n",
    "# accuracy: 0.0762 - loss: 0.4253"
   ]
  },
  {
   "cell_type": "code",
   "execution_count": 13,
   "id": "78cd378d-7a57-4146-8e29-715c0c0d1848",
   "metadata": {},
   "outputs": [
    {
     "name": "stdout",
     "output_type": "stream",
     "text": [
      "\u001b[1m104/104\u001b[0m \u001b[32m━━━━━━━━━━━━━━━━━━━━\u001b[0m\u001b[37m\u001b[0m \u001b[1m7s\u001b[0m 68ms/step\n",
      "0.48684608406410645\n",
      "0.5582098578772301\n"
     ]
    }
   ],
   "source": [
    "# preds = np.round(model.predict(testing_padded))\n",
    "preds = np.argmax(model.predict(testing_padded), axis=1)\n",
    "print(np.mean(abs(preds - testing_labels)))\n",
    "print(np.mean((np.round(preds, 0) - testing_labels)**2))"
   ]
  },
  {
   "cell_type": "code",
   "execution_count": 14,
   "id": "c74ca67f-368e-4800-94fb-8ad45530c767",
   "metadata": {},
   "outputs": [],
   "source": [
    "# embedding with averagepooling\n",
    "# 1.0258\n",
    "# 1.7741\n",
    "\n",
    "# embedding with bidirectional LSTM and removed stop words\n",
    "# able to predict bigger range\n",
    "# 1.0007\n",
    "# 1.7187\n",
    "# classification setup (predicting between 0 and 3 only though :/)\n",
    "# accuracy: 0.5640 - loss: 1.0697\n",
    "# 0.4780\n",
    "# 0.5530\n",
    "# second try\n",
    "# 0.7314\n",
    "# 1.0175\n",
    "\n",
    "# bert_small_en_uncased -  predicting one value though\n",
    "# 0.8415\n",
    "# 1.1086"
   ]
  },
  {
   "cell_type": "code",
   "execution_count": null,
   "id": "6a1aacbe-316d-435e-88bc-9b47da93c1d6",
   "metadata": {},
   "outputs": [],
   "source": []
  },
  {
   "cell_type": "code",
   "execution_count": null,
   "id": "db82a356-64d8-4ca4-99e0-18ac11f9941a",
   "metadata": {},
   "outputs": [],
   "source": []
  },
  {
   "cell_type": "code",
   "execution_count": null,
   "id": "45e0aeeb-4db9-4d6a-b1c6-9c17f68e7781",
   "metadata": {},
   "outputs": [],
   "source": []
  }
 ],
 "metadata": {
  "kernelspec": {
   "display_name": "Python 3 (ipykernel)",
   "language": "python",
   "name": "python3"
  },
  "language_info": {
   "codemirror_mode": {
    "name": "ipython",
    "version": 3
   },
   "file_extension": ".py",
   "mimetype": "text/x-python",
   "name": "python",
   "nbconvert_exporter": "python",
   "pygments_lexer": "ipython3",
   "version": "3.9.6"
  }
 },
 "nbformat": 4,
 "nbformat_minor": 5
}
